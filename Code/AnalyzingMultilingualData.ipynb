{
 "cells": [
  {
   "cell_type": "code",
   "execution_count": 2,
   "metadata": {},
   "outputs": [
    {
     "name": "stdout",
     "output_type": "stream",
     "text": [
      "Requirement already satisfied: spacy in c:\\users\\vinod ghanchi\\appdata\\local\\programs\\python\\python39\\lib\\site-packages (3.3.1)\n",
      "Requirement already satisfied: blis<0.8.0,>=0.4.0 in c:\\users\\vinod ghanchi\\appdata\\local\\programs\\python\\python39\\lib\\site-packages (from spacy) (0.7.8)\n",
      "Requirement already satisfied: thinc<8.1.0,>=8.0.14 in c:\\users\\vinod ghanchi\\appdata\\local\\programs\\python\\python39\\lib\\site-packages (from spacy) (8.0.17)\n",
      "Requirement already satisfied: spacy-legacy<3.1.0,>=3.0.9 in c:\\users\\vinod ghanchi\\appdata\\local\\programs\\python\\python39\\lib\\site-packages (from spacy) (3.0.9)\n",
      "Requirement already satisfied: srsly<3.0.0,>=2.4.3 in c:\\users\\vinod ghanchi\\appdata\\local\\programs\\python\\python39\\lib\\site-packages (from spacy) (2.4.3)\n",
      "Requirement already satisfied: setuptools in c:\\users\\vinod ghanchi\\appdata\\local\\programs\\python\\python39\\lib\\site-packages (from spacy) (49.2.1)\n",
      "Requirement already satisfied: spacy-loggers<2.0.0,>=1.0.0 in c:\\users\\vinod ghanchi\\appdata\\local\\programs\\python\\python39\\lib\\site-packages (from spacy) (1.0.2)\n",
      "Requirement already satisfied: jinja2 in c:\\users\\vinod ghanchi\\appdata\\local\\programs\\python\\python39\\lib\\site-packages (from spacy) (3.1.2)\n",
      "Requirement already satisfied: langcodes<4.0.0,>=3.2.0 in c:\\users\\vinod ghanchi\\appdata\\local\\programs\\python\\python39\\lib\\site-packages (from spacy) (3.3.0)\n",
      "Requirement already satisfied: pydantic!=1.8,!=1.8.1,<1.9.0,>=1.7.4 in c:\\users\\vinod ghanchi\\appdata\\local\\programs\\python\\python39\\lib\\site-packages (from spacy) (1.8.2)\n",
      "Requirement already satisfied: wasabi<1.1.0,>=0.9.1 in c:\\users\\vinod ghanchi\\appdata\\local\\programs\\python\\python39\\lib\\site-packages (from spacy) (0.9.1)\n",
      "Requirement already satisfied: typer<0.5.0,>=0.3.0 in c:\\users\\vinod ghanchi\\appdata\\local\\programs\\python\\python39\\lib\\site-packages (from spacy) (0.4.1)\n",
      "Requirement already satisfied: packaging>=20.0 in c:\\users\\vinod ghanchi\\appdata\\local\\programs\\python\\python39\\lib\\site-packages (from spacy) (21.3)\n",
      "Requirement already satisfied: murmurhash<1.1.0,>=0.28.0 in c:\\users\\vinod ghanchi\\appdata\\local\\programs\\python\\python39\\lib\\site-packages (from spacy) (1.0.7)\n",
      "Requirement already satisfied: catalogue<2.1.0,>=2.0.6 in c:\\users\\vinod ghanchi\\appdata\\local\\programs\\python\\python39\\lib\\site-packages (from spacy) (2.0.7)\n",
      "Requirement already satisfied: preshed<3.1.0,>=3.0.2 in c:\\users\\vinod ghanchi\\appdata\\local\\programs\\python\\python39\\lib\\site-packages (from spacy) (3.0.6)\n",
      "Requirement already satisfied: tqdm<5.0.0,>=4.38.0 in c:\\users\\vinod ghanchi\\appdata\\local\\programs\\python\\python39\\lib\\site-packages (from spacy) (4.64.0)\n",
      "Requirement already satisfied: numpy>=1.15.0 in c:\\users\\vinod ghanchi\\appdata\\local\\programs\\python\\python39\\lib\\site-packages (from spacy) (1.21.2)\n",
      "Requirement already satisfied: cymem<2.1.0,>=2.0.2 in c:\\users\\vinod ghanchi\\appdata\\local\\programs\\python\\python39\\lib\\site-packages (from spacy) (2.0.6)\n",
      "Requirement already satisfied: pathy>=0.3.5 in c:\\users\\vinod ghanchi\\appdata\\local\\programs\\python\\python39\\lib\\site-packages (from spacy) (0.6.2)\n",
      "Requirement already satisfied: requests<3.0.0,>=2.13.0 in c:\\users\\vinod ghanchi\\appdata\\local\\programs\\python\\python39\\lib\\site-packages (from spacy) (2.27.1)\n",
      "Requirement already satisfied: pyparsing!=3.0.5,>=2.0.2 in c:\\users\\vinod ghanchi\\appdata\\local\\programs\\python\\python39\\lib\\site-packages (from packaging>=20.0->spacy) (2.4.7)\n",
      "Requirement already satisfied: smart-open<6.0.0,>=5.2.1 in c:\\users\\vinod ghanchi\\appdata\\local\\programs\\python\\python39\\lib\\site-packages (from pathy>=0.3.5->spacy) (5.2.1)\n",
      "Requirement already satisfied: typing-extensions>=3.7.4.3 in c:\\users\\vinod ghanchi\\appdata\\local\\programs\\python\\python39\\lib\\site-packages (from pydantic!=1.8,!=1.8.1,<1.9.0,>=1.7.4->spacy) (4.2.0)\n",
      "Requirement already satisfied: idna<4,>=2.5 in c:\\users\\vinod ghanchi\\appdata\\local\\programs\\python\\python39\\lib\\site-packages (from requests<3.0.0,>=2.13.0->spacy) (3.3)\n",
      "Requirement already satisfied: certifi>=2017.4.17 in c:\\users\\vinod ghanchi\\appdata\\local\\programs\\python\\python39\\lib\\site-packages (from requests<3.0.0,>=2.13.0->spacy) (2021.10.8)\n",
      "Requirement already satisfied: charset-normalizer~=2.0.0 in c:\\users\\vinod ghanchi\\appdata\\local\\programs\\python\\python39\\lib\\site-packages (from requests<3.0.0,>=2.13.0->spacy) (2.0.12)\n",
      "Requirement already satisfied: urllib3<1.27,>=1.21.1 in c:\\users\\vinod ghanchi\\appdata\\local\\programs\\python\\python39\\lib\\site-packages (from requests<3.0.0,>=2.13.0->spacy) (1.26.9)\n",
      "Requirement already satisfied: colorama in c:\\users\\vinod ghanchi\\appdata\\local\\programs\\python\\python39\\lib\\site-packages (from tqdm<5.0.0,>=4.38.0->spacy) (0.4.4)\n",
      "Requirement already satisfied: click<9.0.0,>=7.1.1 in c:\\users\\vinod ghanchi\\appdata\\local\\programs\\python\\python39\\lib\\site-packages (from typer<0.5.0,>=0.3.0->spacy) (8.1.2)\n",
      "Requirement already satisfied: MarkupSafe>=2.0 in c:\\users\\vinod ghanchi\\appdata\\local\\programs\\python\\python39\\lib\\site-packages (from jinja2->spacy) (2.1.1)\n",
      "Note: you may need to restart the kernel to use updated packages.\n"
     ]
    },
    {
     "name": "stderr",
     "output_type": "stream",
     "text": [
      "WARNING: You are using pip version 22.0.4; however, version 22.1.2 is available.\n",
      "You should consider upgrading via the 'C:\\Users\\vinod ghanchi\\AppData\\Local\\Programs\\Python\\Python39\\python.exe -m pip install --upgrade pip' command.\n"
     ]
    },
    {
     "name": "stdout",
     "output_type": "stream",
     "text": [
      "Collecting langid\n",
      "  Downloading langid-1.1.6.tar.gz (1.9 MB)\n",
      "     ---------------------------------------- 1.9/1.9 MB 2.2 MB/s eta 0:00:00\n",
      "  Preparing metadata (setup.py): started\n",
      "  Preparing metadata (setup.py): finished with status 'done'\n",
      "Requirement already satisfied: numpy in c:\\users\\vinod ghanchi\\appdata\\local\\programs\\python\\python39\\lib\\site-packages (from langid) (1.21.2)\n",
      "Using legacy 'setup.py install' for langid, since package 'wheel' is not installed.\n",
      "Installing collected packages: langid\n",
      "  Running setup.py install for langid: started\n",
      "  Running setup.py install for langid: finished with status 'done'\n",
      "Successfully installed langid-1.1.6\n",
      "Note: you may need to restart the kernel to use updated packages.\n"
     ]
    },
    {
     "name": "stderr",
     "output_type": "stream",
     "text": [
      "WARNING: You are using pip version 22.0.4; however, version 22.1.2 is available.\n",
      "You should consider upgrading via the 'C:\\Users\\vinod ghanchi\\AppData\\Local\\Programs\\Python\\Python39\\python.exe -m pip install --upgrade pip' command.\n"
     ]
    }
   ],
   "source": [
    "%pip install spacy\n",
    "%pip install langid"
   ]
  },
  {
   "cell_type": "code",
   "execution_count": 3,
   "metadata": {},
   "outputs": [],
   "source": [
    "# import libraries we'll use\n",
    "import spacy # fast NLP\n",
    "import pandas as pd # dataframes\n",
    "import langid # language identification (i.e. what language is this?)\n",
    "from nltk.classify.textcat import TextCat # language identification from NLTK\n",
    "from matplotlib.pyplot import plot # not as good as ggplot in R :p"
   ]
  },
  {
   "cell_type": "code",
   "execution_count": 12,
   "metadata": {},
   "outputs": [
    {
     "data": {
      "text/plain": [
       "0    With Party colleagues at the National Executiv...\n",
       "1    Landed in the dynamic city of Hyderabad to tak...\n",
       "2    ??????? ???? ????????? ?? ?????????? @BJP4Indi...\n",
       "3    We mark #5YearsofGST, a major tax reform that ...\n",
       "4    Thank you His Excellency @naftalibennett for b...\n",
       "Name: Tweet, dtype: object"
      ]
     },
     "execution_count": 12,
     "metadata": {},
     "output_type": "execute_result"
    }
   ],
   "source": [
    "# read in our data\n",
    "tweetsData = pd.read_csv('NMtweets.csv',encoding='cp1252')\n",
    "\n",
    "# check out some of our tweets\n",
    "tweetsData['Tweet'][0:5]"
   ]
  },
  {
   "cell_type": "code",
   "execution_count": 14,
   "metadata": {},
   "outputs": [],
   "source": [
    "# create a Spacy document of our tweets\n",
    "# load an English-language Spacy model\n",
    "nlp = spacy.load(\"en_core_web_sm\")\n",
    "\n",
    "# apply the english language model to our tweets\n",
    "doc = nlp(' '.join(tweetsData['Tweet']))"
   ]
  },
  {
   "cell_type": "code",
   "execution_count": 15,
   "metadata": {},
   "outputs": [
    {
     "data": {
      "text/plain": [
       "[8YearsOfAspirationalMiddleClass,\n",
       " 8YearsOfAspirationalMiddleClass,\n",
       " G7????????????@kishida230,\n",
       " 8YearsOfPreservingCulture,\n",
       " 8YearsOfPreservingCulture]"
      ]
     },
     "execution_count": 15,
     "metadata": {},
     "output_type": "execute_result"
    }
   ],
   "source": [
    "sorted(doc, key=len, reverse=True)[0:5]"
   ]
  },
  {
   "cell_type": "code",
   "execution_count": 16,
   "metadata": {},
   "outputs": [
    {
     "data": {
      "text/plain": [
       "[8YearsOfTechPoweredIndia,\n",
       " 8YearsOfWomenEmpowerment,\n",
       " 8YearsOfWomenEmpowerment,\n",
       " Regierungskonsultationen]"
      ]
     },
     "execution_count": 16,
     "metadata": {},
     "output_type": "execute_result"
    }
   ],
   "source": [
    "sorted(doc, key=len, reverse=True)[6:10]"
   ]
  },
  {
   "cell_type": "code",
   "execution_count": 18,
   "metadata": {},
   "outputs": [
    {
     "data": {
      "text/plain": [
       "0     (en, -119.55026865005493)\n",
       "1      (en, -479.4224064350128)\n",
       "2       (en, 9.061840057373047)\n",
       "3     (en, -206.16949582099915)\n",
       "4     (en, -240.69717741012573)\n",
       "5      (no, -44.27930784225464)\n",
       "6      (en, -351.8135666847229)\n",
       "7       (fr, 2.450483798980713)\n",
       "8     (en, -479.60031962394714)\n",
       "9       (en, 9.061840057373047)\n",
       "10    (en, -341.70101737976074)\n",
       "11     (en, -214.2269411087036)\n",
       "12     (en, -553.7577757835388)\n",
       "13     (en, -415.3370852470398)\n",
       "14     (en, -575.0096960067749)\n",
       "15     (en, -398.9797534942627)\n",
       "16     (en, -5.587178707122803)\n",
       "17     (sv, -16.24671459197998)\n",
       "18    (en, -450.43737030029297)\n",
       "19    (en, -482.55674290657043)\n",
       "20     (en, -640.8854503631592)\n",
       "21     (en, -232.0299515724182)\n",
       "22      (en, -362.665265083313)\n",
       "23    (en, -174.46148109436035)\n",
       "24      (en, -151.989520072937)\n",
       "25     (en, -297.7995545864105)\n",
       "26    (en, -213.99019718170166)\n",
       "27    (en, -136.66985511779785)\n",
       "28    (en, -42.246049880981445)\n",
       "29    (en, -420.67584896087646)\n",
       "30     (en, -414.8484387397766)\n",
       "31    (en, -500.13219237327576)\n",
       "32     (en, -429.7039692401886)\n",
       "33    (en, -403.52262020111084)\n",
       "34     (mg, -9.373370885848999)\n",
       "35     (en, -521.2495431900024)\n",
       "36      (en, -316.752676486969)\n",
       "37     (mg, -9.373370885848999)\n",
       "38    (en, -339.83977031707764)\n",
       "39    (en, -434.23667907714844)\n",
       "40    (de, -1216.0737104415894)\n",
       "41    (de, -445.82177114486694)\n",
       "42     (de, -996.7894034385681)\n",
       "43     (en, -464.8114240169525)\n",
       "44     (en, -549.4162654876709)\n",
       "45    (nl, -13.488255500793457)\n",
       "46    (en, -196.93291330337524)\n",
       "47     (it, -213.9546456336975)\n",
       "48     (en, -128.6160135269165)\n",
       "49     (en, -101.8677625656128)\n",
       "Name: Tweet, dtype: object"
      ]
     },
     "execution_count": 18,
     "metadata": {},
     "output_type": "execute_result"
    }
   ],
   "source": [
    "tweetsData['Tweet'][0:50].apply(langid.classify)"
   ]
  },
  {
   "cell_type": "code",
   "execution_count": 21,
   "metadata": {},
   "outputs": [
    {
     "name": "stderr",
     "output_type": "stream",
     "text": [
      "[nltk_data] Downloading package crubadan to C:\\Users\\vinod\n",
      "[nltk_data]     ghanchi\\AppData\\Roaming\\nltk_data...\n",
      "[nltk_data]   Unzipping corpora\\crubadan.zip.\n"
     ]
    },
    {
     "data": {
      "text/plain": [
       "True"
      ]
     },
     "execution_count": 21,
     "metadata": {},
     "output_type": "execute_result"
    }
   ],
   "source": [
    "import nltk\n",
    "nltk.download(\"crubadan\")"
   ]
  },
  {
   "cell_type": "code",
   "execution_count": 22,
   "metadata": {},
   "outputs": [
    {
     "data": {
      "text/plain": [
       "0     eng\n",
       "1     eng\n",
       "2     nds\n",
       "3     eng\n",
       "4     eng\n",
       "5     mlt\n",
       "6     sun\n",
       "7     ind\n",
       "8     sun\n",
       "9     abk\n",
       "10    eng\n",
       "11    eng\n",
       "12    eng\n",
       "13    eng\n",
       "14    eng\n",
       "15    eng\n",
       "16    eng\n",
       "17    eng\n",
       "18    eng\n",
       "19    eng\n",
       "20    eng\n",
       "21    eng\n",
       "22    eng\n",
       "23    eng\n",
       "24    eng\n",
       "25    eng\n",
       "26    eng\n",
       "27    deu\n",
       "28    eng\n",
       "29    eng\n",
       "30    eng\n",
       "31    eng\n",
       "32    eng\n",
       "33    eng\n",
       "34    nds\n",
       "35    eng\n",
       "36    eng\n",
       "37    nds\n",
       "38    eng\n",
       "39    eng\n",
       "40    deu\n",
       "41    deu\n",
       "42    deu\n",
       "43    eng\n",
       "44    eng\n",
       "45    sun\n",
       "46    nds\n",
       "47    eng\n",
       "48    eng\n",
       "49    eng\n",
       "Name: Tweet, dtype: object"
      ]
     },
     "execution_count": 22,
     "metadata": {},
     "output_type": "execute_result"
    }
   ],
   "source": [
    "# N-Gram-Based Text Categorization\n",
    "tc = TextCat()\n",
    "\n",
    "# try to identify the languages of the first five tweets again\n",
    "tweetsData['Tweet'][0:50].apply(tc.guess_language)"
   ]
  },
  {
   "cell_type": "code",
   "execution_count": 23,
   "metadata": {},
   "outputs": [
    {
     "name": "stdout",
     "output_type": "stream",
     "text": [
      "Number of tagged languages (estimated):\n",
      "29\n",
      "Percent of data in English (estimated):\n",
      "87.71228771228772\n"
     ]
    }
   ],
   "source": [
    "# get the language id for each text\n",
    "ids_langid = tweetsData['Tweet'].apply(langid.classify)\n",
    "\n",
    "# get just the language label\n",
    "langs = ids_langid.apply(lambda tuple: tuple[0])\n",
    "\n",
    "# how many unique language labels were applied?\n",
    "print(\"Number of tagged languages (estimated):\")\n",
    "print(len(langs.unique()))\n",
    "\n",
    "# percent of the total dataset in English\n",
    "print(\"Percent of data in English (estimated):\")\n",
    "print((sum(langs==\"en\")/len(langs))*100)"
   ]
  },
  {
   "cell_type": "code",
   "execution_count": 24,
   "metadata": {},
   "outputs": [
    {
     "data": {
      "text/plain": [
       "<AxesSubplot:>"
      ]
     },
     "execution_count": 24,
     "metadata": {},
     "output_type": "execute_result"
    },
    {
     "data": {
      "image/png": "[encoded data removed]",
      "text/plain": [
       "<Figure size 1440x720 with 1 Axes>"
      ]
     },
     "metadata": {
      "needs_background": "light"
     },
     "output_type": "display_data"
    }
   ],
   "source": [
    "# convert our list of languages to a dataframe\n",
    "langs_df = pd.DataFrame(langs)\n",
    "\n",
    "# count the number of times we see each language\n",
    "langs_count = langs_df.Tweet.value_counts()\n",
    "\n",
    "# horrible-looking barplot (I would suggest using R for visualization)\n",
    "langs_count.plot.bar(figsize=(20,10), fontsize=20)"
   ]
  },
  {
   "cell_type": "code",
   "execution_count": 27,
   "metadata": {},
   "outputs": [
    {
     "name": "stdout",
     "output_type": "stream",
     "text": [
      "Languages with more than 10 tweets in our dataset:\n",
      "en    878\n",
      "bn     27\n",
      "de     18\n",
      "pl     12\n",
      "Name: Tweet, dtype: int64\n",
      "\n",
      "Percent of our dataset in these languages:\n",
      "93.4065934065934\n"
     ]
    }
   ],
   "source": [
    "print(\"Languages with more than 10 tweets in our dataset:\")\n",
    "print(langs_count[langs_count > 10])\n",
    "\n",
    "print(\"\")\n",
    "\n",
    "print(\"Percent of our dataset in these languages:\")\n",
    "print((sum(langs_count[langs_count > 10])/len(langs)) * 100)"
   ]
  },
  {
   "cell_type": "code",
   "execution_count": null,
   "metadata": {},
   "outputs": [],
   "source": []
  }
 ],
 "metadata": {
  "interpreter": {
   "hash": "5c7afe0c675ca4a727552e321d9d731c82ea980594f150f2d0e98c73a535fe83"
  },
  "kernelspec": {
   "display_name": "Python 3.9.1 64-bit",
   "language": "python",
   "name": "python3"
  },
  "language_info": {
   "codemirror_mode": {
    "name": "ipython",
    "version": 3
   },
   "file_extension": ".py",
   "mimetype": "text/x-python",
   "name": "python",
   "nbconvert_exporter": "python",
   "pygments_lexer": "ipython3",
   "version": "3.9.1"
  },
  "orig_nbformat": 4
 },
 "nbformat": 4,
 "nbformat_minor": 2
}
